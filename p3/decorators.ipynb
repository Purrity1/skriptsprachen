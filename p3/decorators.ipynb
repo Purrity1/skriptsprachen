{
 "cells": [
  {
   "cell_type": "markdown",
   "id": "88463176",
   "metadata": {},
   "source": [
    "<figure>\n",
    "  <IMG SRC=\"https://upload.wikimedia.org/wikipedia/commons/thumb/d/d5/Fachhochschule_Südwestfalen_20xx_logo.svg/320px-Fachhochschule_Südwestfalen_20xx_logo.svg.png\" WIDTH=250 ALIGN=\"right\">\n",
    "</figure>\n",
    "\n",
    "# Skriptsprachen\n",
    "### Winterersemester 2022/23\n",
    "Prof. Dr. Heiner Giefers"
   ]
  },
  {
   "cell_type": "markdown",
   "id": "756b1220",
   "metadata": {},
   "source": [
    "### Rekursions-Dekorator"
   ]
  },
  {
   "cell_type": "markdown",
   "id": "7294a0bc",
   "metadata": {},
   "source": [
    "Der Python-Interpreter besitzt eine maximale Rekursionstiefe.\n",
    "Beim Erreichen des festgesetzten Limits bricht der Interpreter die Rekursion ab und wirft eine `RecursionError` Exception.\n",
    "\n",
    "Wie hoch das eingestellte Limit ist, können Sie über das `sys`-Modul einsehen:"
   ]
  },
  {
   "cell_type": "code",
   "execution_count": null,
   "id": "799a68a6",
   "metadata": {},
   "outputs": [],
   "source": [
    "import sys\n",
    "sys.getrecursionlimit()"
   ]
  },
  {
   "cell_type": "markdown",
   "id": "2901babc",
   "metadata": {},
   "source": [
    "Die folgende Funktion beinhaltete eine theoretisch endlose Rekursion ab.\n",
    "Nach einem Aufruf sollten Sie den *Call Stack* mit der entsprechenden Fehlermeldung sehen."
   ]
  },
  {
   "cell_type": "code",
   "execution_count": null,
   "id": "be2e8bc1",
   "metadata": {},
   "outputs": [],
   "source": [
    "counter = 0\n",
    "def f():\n",
    "    global counter\n",
    "    counter+=1\n",
    "    return f()\n",
    "\n",
    "f()"
   ]
  },
  {
   "cell_type": "code",
   "execution_count": null,
   "id": "354ff3aa",
   "metadata": {},
   "outputs": [],
   "source": [
    "counter"
   ]
  },
  {
   "cell_type": "markdown",
   "id": "cc7d09e2",
   "metadata": {},
   "source": [
    "**Aufgabe:** Schreiben Sie einen *Function Decorator* `safe_recursion` mit dem Sie eine Rekursive Funktion absichern können.\n",
    "Die dekorierte Funktion soll die Rekursion in einem `try`-`except`-Block aufrufen und eine `RecursionError` Exception abfangen.\n",
    "Der Decorator soll selbsständig einen Counter implementieren mit der die Rekursionstiefe der Funktion mitverfolgt wird. \n",
    "Im Fall eines `RecursionError` soll die Rekursionstiefe ausgegeben werden.\n",
    "\n",
    "*Hinweis:* Um den Zähler in der Decorator Funktion zu speichern, können die dem Funktionsobjekt ein Attribut hinzufügen. Das sieht etwas \"sonderbar\" aus, da Funktionen in Python aber *ganz normale Objekte* sind, ist dies ohne weiteres möglich.\n",
    "In der folgenden Funktion `test` weisen wir innerhalb des Funktionskörpers dem Attribut `test.wert`der Wert 42 zu.\n",
    "`wert` ist nun ein Attribut des Funktionsobjekts `test`.\n",
    "Wir können den Wert also mit `test.wert` abrufen."
   ]
  },
  {
   "cell_type": "code",
   "execution_count": null,
   "id": "22cf3099",
   "metadata": {},
   "outputs": [],
   "source": [
    "def test():\n",
    "    test.wert = 42\n",
    "    return 123\n",
    "\n",
    "print(test())\n",
    "test.wert"
   ]
  },
  {
   "cell_type": "code",
   "execution_count": null,
   "id": "6695f69e",
   "metadata": {
    "deletable": false,
    "nbgrader": {
     "cell_type": "code",
     "checksum": "1fe71f9e624352585e217fda2c141d7d",
     "grade": false,
     "grade_id": "cell-0364f7d02714f914",
     "locked": false,
     "schema_version": 3,
     "solution": true,
     "task": false
    }
   },
   "outputs": [],
   "source": [
    "import sys\n",
    "\n",
    "def safe_recursion(func):\n",
    "    # YOUR CODE HERE\n",
    "    raise NotImplementedError()"
   ]
  },
  {
   "cell_type": "code",
   "execution_count": null,
   "id": "95375ed4",
   "metadata": {
    "deletable": false,
    "editable": false,
    "nbgrader": {
     "cell_type": "code",
     "checksum": "352e8fcf9111e6cdf9c04738819e8a48",
     "grade": true,
     "grade_id": "cell-d80c38ab5904694d",
     "locked": true,
     "points": 0,
     "schema_version": 3,
     "solution": false,
     "task": false
    }
   },
   "outputs": [],
   "source": [
    "@safe_recursion\n",
    "def f():\n",
    "    return f()\n",
    "\n",
    "f()\n",
    "\n"
   ]
  }
 ],
 "metadata": {
  "kernelspec": {
   "display_name": "Python 3 (ipykernel)",
   "language": "python",
   "name": "python3"
  },
  "language_info": {
   "codemirror_mode": {
    "name": "ipython",
    "version": 3
   },
   "file_extension": ".py",
   "mimetype": "text/x-python",
   "name": "python",
   "nbconvert_exporter": "python",
   "pygments_lexer": "ipython3",
   "version": "3.9.7"
  },
  "varInspector": {
   "cols": {
    "lenName": 16,
    "lenType": 16,
    "lenVar": 40
   },
   "kernels_config": {
    "python": {
     "delete_cmd_postfix": "",
     "delete_cmd_prefix": "del ",
     "library": "var_list.py",
     "varRefreshCmd": "print(var_dic_list())"
    },
    "r": {
     "delete_cmd_postfix": ") ",
     "delete_cmd_prefix": "rm(",
     "library": "var_list.r",
     "varRefreshCmd": "cat(var_dic_list()) "
    }
   },
   "types_to_exclude": [
    "module",
    "function",
    "builtin_function_or_method",
    "instance",
    "_Feature"
   ],
   "window_display": false
  }
 },
 "nbformat": 4,
 "nbformat_minor": 5
}
