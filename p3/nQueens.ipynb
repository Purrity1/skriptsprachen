{
 "cells": [
  {
   "cell_type": "markdown",
   "id": "04e2c0c3",
   "metadata": {},
   "source": [
    "<figure>\n",
    "  <IMG SRC=\"https://upload.wikimedia.org/wikipedia/commons/thumb/d/d5/Fachhochschule_Südwestfalen_20xx_logo.svg/320px-Fachhochschule_Südwestfalen_20xx_logo.svg.png\" WIDTH=250 ALIGN=\"right\">\n",
    "</figure>\n",
    "\n",
    "# Skriptsprachen\n",
    "### Winterersemester 2022/23\n",
    "Prof. Dr. Heiner Giefers"
   ]
  },
  {
   "cell_type": "code",
   "execution_count": null,
   "id": "712ab4f6",
   "metadata": {},
   "outputs": [],
   "source": [
    "import sys\n",
    "try:\n",
    "    import chess\n",
    "except:\n",
    "    !{sys.executable} -m pip install chess"
   ]
  },
  {
   "cell_type": "markdown",
   "id": "628d548d",
   "metadata": {},
   "source": [
    "### Das n-Damen Problem\n",
    "\n",
    "In dieser Aufgabe betrachten wir das bekannte *n-Damen Problem*. Dabei geht es darum, auf einem Schachbrett der Größe $n\\times n$ insgesamt $n$ Damen si zu plazieren, dass kein der Damen eine andere angreift. Im Schach kann sich die Dame horizontal, vertikal und diagonal bewegen. Es kann also pro Zeile und Spalte nur eine Dame palziert werden, gleichzeitig darf auf den ansteigenden und absteigenden Diagonalen nur jeweils eine Dame platziert sein.\n",
    "\n",
    "Das Folgende Beispiel zeigt eine Lösung des 8-Damen Problems für ein normales Schachbrett:"
   ]
  },
  {
   "cell_type": "code",
   "execution_count": null,
   "id": "322a9eda",
   "metadata": {},
   "outputs": [],
   "source": [
    "fen = \"Q7/4Q3/7Q/5Q2/2Q5/6Q1/1Q6/3Q4\"\n",
    "board = chess.Board(fen)\n",
    "display(board)"
   ]
  },
  {
   "cell_type": "markdown",
   "id": "a4573997",
   "metadata": {},
   "source": [
    "#### Vorgehensweise\n",
    "Das n-Damen Probelm ist ein Fall, den man ideal mit dem *Backtracking-Algorithmus* lösen kann. Beim Backtracking wird versucht, eine Teillösung zu einer Komplettlösung auszubauen. Scheitert der Algorithmus auf seinem Weg zur lösung, geht er einen Schritt zurück, ändert eine Entscheidung und probiert diese neue Teillösung zur Komplettlösung zu erweitern. Auf diesem Wege (der im Prinzip einer Tiefensuche entspricht) können alle möglichen Lösungen gefunden werden.\n",
    "\n",
    "**Lösungsideen:**\n",
    "- Auf jeder Zeile des Spielbretts kann nur eine Dame plaziert werden. Wir können also in unsere Backtracking routine alle Spalten einer Zeile durchprobieren; falls eine Dame auf einer Spalte der Zeile fehlerfrei plaziert werden kann, merken wir uns die Spalte und probieren dann eine Weitere Dame auf der nächsten Zeile zu plazieren. Dies führt zu einem rekursiven Aufruf der Backtracking-Funktion.\n",
    "- Immer, wenn wir auf der untersten Zeile des Feldes ankommen und dort eine Dame Plazieren können, merken wir uns die aktuelle Lösung und beenden die Backtracking-Funktion.\n",
    "- Wenn wir von einem rekursiven Aufruf der Backtracking-Funktion zurückkehren, müssen wir das Plazieren der letzen Dame rückgängig machen und zum nächsten Feld der Zeile gehen. \n",
    "\n",
    "- Da wir über die Zeilen gehen, müssen wir uns die Zeilen, auf denen Damen plaziert worden sind nicht merken\n",
    "- Die Spalte, in der wir die Damen plaziert haben, speichern wir in einer Liste. Diese Liste ist dann auch das Ergebnis für eine Lösung, falls die List *n* Spalten-IDs für die *n* plazierten Damen enthält.\n",
    "- Im Gegensatz zu den Zeilen und Spalten, lassen sich die Diagonalen nicht so einfach durchnummerieren. Man kann aber beobachten, dass die unterschidlichen Diagonalen immer den gleichen Wert für `Zeile+Spalte` (ansteigende Diagonalen), bzw. `Zeile-Spalte` (absteigende Diagonalen) haben. Mit diesen Berechnungen kann man also festhalten, ob eine bestimmte ansteigende oder absteigende Diagonale bereits besetzt ist."
   ]
  },
  {
   "cell_type": "markdown",
   "id": "2b79ddf5",
   "metadata": {},
   "source": [
    "![](https://media.geeksforgeeks.org/wp-content/uploads/20200716201927/matrix.png)"
   ]
  },
  {
   "cell_type": "code",
   "execution_count": null,
   "id": "bbc0a8ab",
   "metadata": {
    "deletable": false,
    "nbgrader": {
     "cell_type": "code",
     "checksum": "0d9efcb4ebb48dc19ff42cfe0827b7e8",
     "grade": false,
     "grade_id": "cell-7d81e9746387e944",
     "locked": false,
     "schema_version": 3,
     "solution": true,
     "task": false
    }
   },
   "outputs": [],
   "source": [
    "class nQueens:\n",
    "    \n",
    "    def __init__(self, n):\n",
    "        # YOUR CODE HERE\n",
    "        raise NotImplementedError()\n",
    "    \n",
    "    def solve(self):\n",
    "        n = self.n\n",
    "        spalten   = []  # \n",
    "        anstDiag  = []  # (Zeile + Spalte)\n",
    "        abstDiag  = []  # (Zeile - Spalte)\n",
    "        \n",
    "        \n",
    "        def backtracking(zeile):\n",
    "            # YOUR CODE HERE\n",
    "            raise NotImplementedError()\n",
    "\n",
    "        backtracking(0)\n",
    "        return self.res\n",
    "    \n",
    "    def __str__(self):\n",
    "        # YOUR CODE HERE\n",
    "        raise NotImplementedError()"
   ]
  },
  {
   "cell_type": "code",
   "execution_count": null,
   "id": "89d170f5",
   "metadata": {
    "deletable": false,
    "editable": false,
    "nbgrader": {
     "cell_type": "code",
     "checksum": "3d96763e1371e26fe1bcc405011943b2",
     "grade": true,
     "grade_id": "cell-414563331e7155b6",
     "locked": true,
     "points": 0,
     "schema_version": 3,
     "solution": false,
     "task": false
    }
   },
   "outputs": [],
   "source": [
    "s = nQueens(4)\n",
    "assert s.solve()==[(1, 3, 0, 2), (2, 0, 3, 1)]"
   ]
  },
  {
   "cell_type": "code",
   "execution_count": null,
   "id": "b5661c83",
   "metadata": {
    "deletable": false,
    "nbgrader": {
     "cell_type": "code",
     "checksum": "9914104e95fc87e79200397c81628b43",
     "grade": true,
     "grade_id": "cell-4f1a2555dc94d66b",
     "locked": false,
     "points": 0,
     "schema_version": 3,
     "solution": true,
     "task": false
    }
   },
   "outputs": [],
   "source": [
    "# YOUR CODE HERE\n",
    "raise NotImplementedError()"
   ]
  },
  {
   "cell_type": "code",
   "execution_count": null,
   "id": "4da384d7",
   "metadata": {},
   "outputs": [],
   "source": []
  }
 ],
 "metadata": {
  "kernelspec": {
   "display_name": "Python 3 (ipykernel)",
   "language": "python",
   "name": "python3"
  },
  "language_info": {
   "codemirror_mode": {
    "name": "ipython",
    "version": 3
   },
   "file_extension": ".py",
   "mimetype": "text/x-python",
   "name": "python",
   "nbconvert_exporter": "python",
   "pygments_lexer": "ipython3",
   "version": "3.9.7"
  }
 },
 "nbformat": 4,
 "nbformat_minor": 5
}
